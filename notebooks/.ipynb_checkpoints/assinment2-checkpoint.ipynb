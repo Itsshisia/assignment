{
 "cells": [
  {
   "cell_type": "code",
   "execution_count": 1,
   "id": "43725d24-a8d5-48ff-aa9d-675c097fc8ce",
   "metadata": {},
   "outputs": [],
   "source": [
    "#Create an empty list called my_list.\n",
    "#Append the following elements to my_list: 10, 20, 30, 40.\n",
    "#Insert the value 15 at the second position in the list.\n",
    "#Extend my_list with another list: [50, 60, 70].\n",
    "#Remove the last element from my_list.\n",
    "#Sort my_list in ascending order.\n",
    "#Find and print the index of the value 30 in my_list.\n",
    "\n",
    "my_list = []\n",
    "\n"
   ]
  },
  {
   "cell_type": "code",
   "execution_count": 2,
   "id": "2f0f2f34-c636-4837-9520-7ae6430b956d",
   "metadata": {},
   "outputs": [],
   "source": [
    "my_list.append(10)\n",
    "my_list.append(20)\n",
    "my_list.append(30)\n",
    "my_list.append(40)"
   ]
  },
  {
   "cell_type": "code",
   "execution_count": 3,
   "id": "ebf71b67-e25b-4403-b9a9-23d93c0b486f",
   "metadata": {},
   "outputs": [
    {
     "data": {
      "text/plain": [
       "[10, 20, 30, 40]"
      ]
     },
     "execution_count": 3,
     "metadata": {},
     "output_type": "execute_result"
    }
   ],
   "source": [
    "my_list"
   ]
  },
  {
   "cell_type": "code",
   "execution_count": 4,
   "id": "7edef54c-7994-4d2c-8dff-593fb2a1e8eb",
   "metadata": {},
   "outputs": [],
   "source": [
    "my_list.insert(1, 15)"
   ]
  },
  {
   "cell_type": "code",
   "execution_count": 5,
   "id": "26b6dd8e-1a48-4460-bcda-f13f43922f37",
   "metadata": {},
   "outputs": [
    {
     "data": {
      "text/plain": [
       "[10, 15, 20, 30, 40]"
      ]
     },
     "execution_count": 5,
     "metadata": {},
     "output_type": "execute_result"
    }
   ],
   "source": [
    "my_list"
   ]
  },
  {
   "cell_type": "code",
   "execution_count": 6,
   "id": "597ab3c6-4283-4df3-86ae-367534bc5b9c",
   "metadata": {},
   "outputs": [],
   "source": [
    "my_list.extend([50, 60, 70])"
   ]
  },
  {
   "cell_type": "code",
   "execution_count": 7,
   "id": "6819ec1e-709a-488d-a5aa-0ab629c67d56",
   "metadata": {},
   "outputs": [
    {
     "data": {
      "text/plain": [
       "[10, 15, 20, 30, 40, 50, 60, 70]"
      ]
     },
     "execution_count": 7,
     "metadata": {},
     "output_type": "execute_result"
    }
   ],
   "source": [
    "my_list"
   ]
  },
  {
   "cell_type": "code",
   "execution_count": 8,
   "id": "85093fb5-d132-406e-8419-45ac3cf8876d",
   "metadata": {},
   "outputs": [
    {
     "data": {
      "text/plain": [
       "70"
      ]
     },
     "execution_count": 8,
     "metadata": {},
     "output_type": "execute_result"
    }
   ],
   "source": [
    "my_list.pop()"
   ]
  },
  {
   "cell_type": "code",
   "execution_count": 9,
   "id": "fb43bc2a-104e-44cd-90d1-c06512941452",
   "metadata": {},
   "outputs": [],
   "source": [
    "my_list.sort()"
   ]
  },
  {
   "cell_type": "code",
   "execution_count": 10,
   "id": "68b528ee-b057-4238-b7d4-a2e6aad92c63",
   "metadata": {},
   "outputs": [
    {
     "data": {
      "text/plain": [
       "[10, 15, 20, 30, 40, 50, 60]"
      ]
     },
     "execution_count": 10,
     "metadata": {},
     "output_type": "execute_result"
    }
   ],
   "source": [
    "my_list"
   ]
  },
  {
   "cell_type": "code",
   "execution_count": 11,
   "id": "ecf5e2be-492f-4738-835d-16d05b17e0a6",
   "metadata": {},
   "outputs": [],
   "source": [
    "index_of_30 = my_list.index(30)"
   ]
  },
  {
   "cell_type": "code",
   "execution_count": 12,
   "id": "648246a7-8c27-4eb0-8a30-23578facf649",
   "metadata": {},
   "outputs": [
    {
     "name": "stdout",
     "output_type": "stream",
     "text": [
      "Index of 30: 3\n"
     ]
    }
   ],
   "source": [
    "print(\"Index of 30:\", index_of_30)"
   ]
  },
  {
   "cell_type": "code",
   "execution_count": null,
   "id": "8f1a22fd-49fa-40b1-984d-11266d931c7e",
   "metadata": {},
   "outputs": [],
   "source": []
  }
 ],
 "metadata": {
  "kernelspec": {
   "display_name": "Python 3 (ipykernel)",
   "language": "python",
   "name": "python3"
  },
  "language_info": {
   "codemirror_mode": {
    "name": "ipython",
    "version": 3
   },
   "file_extension": ".py",
   "mimetype": "text/x-python",
   "name": "python",
   "nbconvert_exporter": "python",
   "pygments_lexer": "ipython3",
   "version": "3.13.5"
  }
 },
 "nbformat": 4,
 "nbformat_minor": 5
}
