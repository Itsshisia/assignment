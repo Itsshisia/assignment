{
 "cells": [
  {
   "cell_type": "code",
   "execution_count": 1,
   "id": "85228f88-8ac3-4b51-889b-ea5512052ab4",
   "metadata": {},
   "outputs": [
    {
     "name": "stdout",
     "output_type": "stream",
     "text": [
      "✅ File 'output.txt' has been created successfully with processed text and word count.\n"
     ]
    }
   ],
   "source": [
    "#Challenge: Create a program that reads a text file, processes its content, and writes the results to a new file.\n",
    "\n",
    "#📌 Task Requirements:\n",
    "#Create a file called input.txt and write at least five lines of text into it.\n",
    "#Write a Python script to:\n",
    "#Read the contents of input.txt.\n",
    "#Count the number of words in the file.\n",
    "#Convert all text to uppercase.\n",
    "#Write the processed text and the word count to a new file called output.txt.\n",
    "#Print a success message once the new file is created.\n",
    "# Step 1: Create input.txt and write sample content (optional step if file already exists)\n",
    "with open(\"input.txt\", \"w\") as file:\n",
    "    file.write(\"Python is a powerful programming language.\\n\")\n",
    "    file.write(\"It is widely used for web development, data science, and more.\\n\")\n",
    "    file.write(\"Reading and writing files is an essential skill.\\n\")\n",
    "    file.write(\"File operations are simple in Python.\\n\")\n",
    "    file.write(\"Practice helps improve your coding skills.\\n\")\n",
    "\n",
    "# Step 2: Read input.txt\n",
    "with open(\"input.txt\", \"r\") as file:\n",
    "    content = file.read()\n",
    "\n",
    "# Step 3: Count the number of words\n",
    "word_count = len(content.split())\n",
    "\n",
    "# Step 4: Convert text to uppercase\n",
    "uppercase_content = content.upper()\n",
    "\n",
    "# Step 5: Write to output.txt\n",
    "with open(\"output.txt\", \"w\") as file:\n",
    "    file.write(\"PROCESSED TEXT:\\n\")\n",
    "    file.write(uppercase_content + \"\\n\")\n",
    "    file.write(f\"\\nWORD COUNT: {word_count}\")\n",
    "\n",
    "# Step 6: Print success message\n",
    "print(\"✅ File 'output.txt' has been created successfully with processed text and word count.\")\n"
   ]
  },
  {
   "cell_type": "code",
   "execution_count": null,
   "id": "9749281d-fe2d-4ed6-9ca1-a969207af0bd",
   "metadata": {},
   "outputs": [],
   "source": []
  }
 ],
 "metadata": {
  "kernelspec": {
   "display_name": "Python 3 (ipykernel)",
   "language": "python",
   "name": "python3"
  },
  "language_info": {
   "codemirror_mode": {
    "name": "ipython",
    "version": 3
   },
   "file_extension": ".py",
   "mimetype": "text/x-python",
   "name": "python",
   "nbconvert_exporter": "python",
   "pygments_lexer": "ipython3",
   "version": "3.13.5"
  }
 },
 "nbformat": 4,
 "nbformat_minor": 5
}
