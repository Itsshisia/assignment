{
 "cells": [
  {
   "cell_type": "code",
   "execution_count": 7,
   "id": "b07b849d-cbe9-4b5b-8440-d6c2ace68379",
   "metadata": {},
   "outputs": [],
   "source": [
    "#1. Large Power\n",
    "\n",
    "#Create a method that tests whether the result of taking the power of one number to another number provides an answer which is greater than 5000. We will use a conditional statement to return True if the result is greater than 5000 or return False if it is not. In order to accomplish this, we will need the following steps:\n",
    "#Coding Question\n",
    "\n",
    "#Create a function named large_power() that takes two parameters named base and exponent.\n",
    "\n",
    "#If base raised to the exponent is greater than 5000, return True, otherwise return FalseDefine the function to accept two input parameters called base and exponent\n",
    "#Calculate the result of base to the power of exponent\n",
    "#Use an if statement to test if the result is greater than 5000.\n",
    "\n",
    "def large_power(base, exponent):\n",
    "    result = base ** exponent\n",
    "    if result > 5000:\n",
    "        return True\n",
    "    else:\n",
    "        return False\n",
    "\n"
   ]
  },
  {
   "cell_type": "code",
   "execution_count": 8,
   "id": "5eda8d4d-03f1-4535-b63d-5d92da697202",
   "metadata": {},
   "outputs": [
    {
     "name": "stdout",
     "output_type": "stream",
     "text": [
      "False\n"
     ]
    }
   ],
   "source": [
    "print(large_power(10, 3))"
   ]
  },
  {
   "cell_type": "code",
   "execution_count": 9,
   "id": "70e6ad7c-a7c6-4060-ae4e-b7eb017b1790",
   "metadata": {},
   "outputs": [
    {
     "name": "stdout",
     "output_type": "stream",
     "text": [
      "True\n"
     ]
    }
   ],
   "source": [
    "print(large_power(10, 4))"
   ]
  },
  {
   "cell_type": "code",
   "execution_count": 4,
   "id": "79aad230-ca72-4d01-bd18-5fcc83fa0b21",
   "metadata": {},
   "outputs": [],
   "source": [
    "#2.Divisible By Ten\n",
    "\n",
    "#Create a function that determines whether or not a number is divisible by ten. A number is divisible by ten if the remainder of the number divided by 10 is 0. Using this, we can complete this function in a few steps:\n",
    "\n",
    "#Define the function header to accept one input num\n",
    "#Calculate the remainder of the input divided by 10 (use modulus)\n",
    "#Use an if statement to check if the remainder was 0. If the remainder was 0, return True, otherwise, return False Coding question\n",
    "\n",
    "#Create a function called divisible_by_ten() that has one parameter named num.\n",
    "\n",
    "#The function should return True if num is divisible by 10, and False otherwise. Consider using modulo operator % to check for divisibility.\n",
    "def divisible_by_ten(num):\n",
    "    if num % 10 == 0:\n",
    "        return True\n",
    "    else:\n",
    "        return False\n",
    "\n"
   ]
  },
  {
   "cell_type": "code",
   "execution_count": 5,
   "id": "82a64fff-8d2d-4ac3-9e03-895eec88a5f1",
   "metadata": {},
   "outputs": [
    {
     "name": "stdout",
     "output_type": "stream",
     "text": [
      "True\n"
     ]
    }
   ],
   "source": [
    "print(divisible_by_ten(20))"
   ]
  },
  {
   "cell_type": "code",
   "execution_count": 6,
   "id": "5dbcc90f-14ca-4926-aa04-872eb0b8fe7b",
   "metadata": {},
   "outputs": [
    {
     "name": "stdout",
     "output_type": "stream",
     "text": [
      "False\n"
     ]
    }
   ],
   "source": [
    "print(divisible_by_ten(33)) "
   ]
  },
  {
   "cell_type": "code",
   "execution_count": null,
   "id": "b379b064-6750-493f-9a68-2a582ec59d61",
   "metadata": {},
   "outputs": [],
   "source": []
  }
 ],
 "metadata": {
  "kernelspec": {
   "display_name": "Python 3 (ipykernel)",
   "language": "python",
   "name": "python3"
  },
  "language_info": {
   "codemirror_mode": {
    "name": "ipython",
    "version": 3
   },
   "file_extension": ".py",
   "mimetype": "text/x-python",
   "name": "python",
   "nbconvert_exporter": "python",
   "pygments_lexer": "ipython3",
   "version": "3.13.5"
  }
 },
 "nbformat": 4,
 "nbformat_minor": 5
}
