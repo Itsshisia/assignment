{
 "cells": [
  {
   "cell_type": "code",
   "execution_count": 1,
   "id": "64b59734-c308-4c25-b278-097852e30457",
   "metadata": {},
   "outputs": [
    {
     "name": "stdin",
     "output_type": "stream",
     "text": [
      "Enter the original price of the item:  700\n",
      "Enter the discount percentage:  56\n"
     ]
    },
    {
     "name": "stdout",
     "output_type": "stream",
     "text": [
      "Discount applied. Final price: 308.00\n"
     ]
    }
   ],
   "source": [
    "#Create a function named calculate_discount(price, discount_percent) that calculates the final price after applying a discount. The function should take the original price (price) and the discount percentage (discount_percent) as parameters. If the discount is 20% or higher, apply the discount; otherwise, return the original price.\n",
    "#Using the calculate_discount function, prompt the user to enter the original price of an item and the discount percentage. Print the final price after applying the discount, or if no discount was applied, print the original price.\n",
    "\n",
    "def calculate_discount(price, discount_percent):\n",
    "    if discount_percent >= 20:\n",
    "        discount_amount = price * (discount_percent / 100)\n",
    "        final_price = price - discount_amount\n",
    "        return final_price\n",
    "    else:\n",
    "        return price\n",
    "\n",
    "\n",
    "try:\n",
    "    original_price = float(input(\"Enter the original price of the item: \"))\n",
    "    discount = float(input(\"Enter the discount percentage: \"))\n",
    "\n",
    "    final_price = calculate_discount(original_price, discount)\n",
    "\n",
    "    if discount >= 20:\n",
    "        print(f\"Discount applied. Final price: {final_price:.2f}\")\n",
    "    else:\n",
    "        print(f\"No discount applied. Final price: {final_price:.2f}\")\n",
    "except ValueError:\n",
    "    print(\"Please enter valid numeric inputs.\")\n"
   ]
  },
  {
   "cell_type": "code",
   "execution_count": null,
   "id": "35f089ac-a60a-4f19-af52-f8e40b10f944",
   "metadata": {},
   "outputs": [],
   "source": []
  }
 ],
 "metadata": {
  "kernelspec": {
   "display_name": "Python 3 (ipykernel)",
   "language": "python",
   "name": "python3"
  },
  "language_info": {
   "codemirror_mode": {
    "name": "ipython",
    "version": 3
   },
   "file_extension": ".py",
   "mimetype": "text/x-python",
   "name": "python",
   "nbconvert_exporter": "python",
   "pygments_lexer": "ipython3",
   "version": "3.13.5"
  }
 },
 "nbformat": 4,
 "nbformat_minor": 5
}
