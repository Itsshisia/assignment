{
 "cells": [
  {
   "cell_type": "code",
   "execution_count": null,
   "id": "704ae818-415b-4b3e-b849-39fdc0293801",
   "metadata": {},
   "outputs": [],
   "source": [
    "#File Read & Write Challenge 🖋️: Create a program that reads a file and writes a modified version to a new file.\n",
    "#Error Handling Lab 🧪: Ask the user for a filename and handle errors if it doesn’t exist or can’t be read.\n",
    "\n",
    "def read_and_modify_file():\n",
    "    # Ask the user for a filename\n",
    "    filename = input(\"Enter the name of the file to read (e.g., input.txt): \")\n",
    "\n",
    "    try:\n",
    "        # Attempt to open and read the file\n",
    "        with open(filename, 'r') as file:\n",
    "            content = file.read()\n",
    "\n",
    "        # Modify the content: convert to uppercase\n",
    "        modified_content = content.upper()\n",
    "\n",
    "        # Create a new file to write the modified content\n",
    "        output_filename = \"modified_\" + filename\n",
    "        with open(output_filename, 'w') as new_file:\n",
    "            new_file.write(\"MODIFIED FILE CONTENT:\\n\")\n",
    "            new_file.write(modified_content)\n",
    "\n",
    "        print(f\"✅ Success! Modified content has been saved to '{output_filename}'.\")\n",
    "\n",
    "    except FileNotFoundError:\n",
    "        print(f\"❌ Error: The file '{filename}' was not found.\")\n",
    "    except PermissionError:\n",
    "        print(f\"❌ Error: Permission denied while reading the file '{filename}'.\")\n",
    "    except Exception as e:\n",
    "        print(f\"❌ An unexpected error occurred: {e}\")\n",
    "\n",
    "# Run the function\n",
    "read_and_modify_file()\n"
   ]
  },
  {
   "cell_type": "code",
   "execution_count": null,
   "id": "30a811d6-02c0-4599-b77d-226540207ae4",
   "metadata": {},
   "outputs": [],
   "source": []
  }
 ],
 "metadata": {
  "kernelspec": {
   "display_name": "Python 3 (ipykernel)",
   "language": "python",
   "name": "python3"
  },
  "language_info": {
   "codemirror_mode": {
    "name": "ipython",
    "version": 3
   },
   "file_extension": ".py",
   "mimetype": "text/x-python",
   "name": "python",
   "nbconvert_exporter": "python",
   "pygments_lexer": "ipython3",
   "version": "3.13.5"
  }
 },
 "nbformat": 4,
 "nbformat_minor": 5
}
